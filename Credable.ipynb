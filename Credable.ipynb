{
 "cells": [
  {
   "cell_type": "code",
   "execution_count": 68,
   "id": "ed0f504f-babe-447c-9b70-23341069032a",
   "metadata": {},
   "outputs": [],
   "source": [
    "#Import packages\n",
    "import pandas as pd\n",
    "import matplotlib.pyplot as plt\n",
    "import seaborn as sns\n",
    "import numpy as np\n",
    "from datetime import datetime\n",
    "\n",
    "from sklearn.linear_model import LinearRegression"
   ]
  },
  {
   "cell_type": "markdown",
   "id": "d83eb37a-f3fe-4e7a-9e63-4e46da4383bf",
   "metadata": {},
   "source": [
    "### **1. DATA IMPORTATION AND EXPLORATION**    \n",
    "\n",
    "###### Here we shall import data - both sheets and do simple Descriptive statistics for both Disbursment and Repayment"
   ]
  },
  {
   "cell_type": "code",
   "execution_count": 4,
   "id": "0ec36c28-8e00-4e21-bd70-96093f8cb768",
   "metadata": {},
   "outputs": [],
   "source": [
    "#Data import and Preview\n",
    "Disb = pd.read_excel(\"BI_Analyst_Case_Study_Data.xlsx\", sheet_name='Disbursements')\n",
    "Repay = pd.read_excel(\"BI_Analyst_Case_Study_Data.xlsx\", sheet_name='Repayments')"
   ]
  },
  {
   "cell_type": "code",
   "execution_count": 7,
   "id": "13958919-dfe9-4fba-990a-ac2f00882f68",
   "metadata": {},
   "outputs": [
    {
     "name": "stdout",
     "output_type": "stream",
     "text": [
      "                                         customer_id  disb_date   tenure  \\\n",
      "0  91810ca1aa097db79f050f38e9946fa5482b4e28c925e2... 2024-03-19  14 days   \n",
      "1  42ca06e6fe1ff9803e82a5c20184671b54090e488f78d6... 2024-03-19   7 days   \n",
      "2  b23747f53af805e18ad16a4ef235b6642d88f9134644ff... 2024-03-19   7 days   \n",
      "3  1bd32f9b083fc6ddfffd65730fbfa66654fa76a19b0b0e... 2024-03-19  14 days   \n",
      "4  e7cfbaa97ba7702c52df5f1dddba54bd26923ebad945f1... 2024-03-19   7 days   \n",
      "\n",
      "                        account_num  loan_amount  loan_fee  \n",
      "0  3O66YENWELA6E2H1R9YLX0LDZNOMNHD4          360      43.2  \n",
      "1  6XWHXKKR1W2HIA8I0V75PZFZBXUUGSVO           70       7.0  \n",
      "2  OCGK3RJZ91A999VXD4VB3LATPSME3J5L         3500     350.0  \n",
      "3  9X3Q682DOR7927IMMJLFHBGP0RP7YF5C         3500     420.0  \n",
      "4  AQH88NNF8S76MGJL4J4ULEAE18O0KLWH          120      12.0  \n",
      "                         date_time  \\\n",
      "0  27-JUN-24 07.16.36.000000000 AM   \n",
      "1  27-JUN-24 05.26.50.000000000 PM   \n",
      "2  27-JUN-24 06.45.40.000000000 PM   \n",
      "3  27-JUN-24 01.24.57.000000000 PM   \n",
      "4  27-JUN-24 01.31.44.000000000 PM   \n",
      "\n",
      "                                         customer_id   amount  rep_month  \\\n",
      "0  683131338d401fda38410a808797b7706bc3e364d0fe77...   500.65     202406   \n",
      "1  56a41251185bd205961556399289804607ccc660392837...  2833.33     202406   \n",
      "2  000e57e83f161e4ba6458b3e32c00815405c5a005e652b...   143.98     202406   \n",
      "3  f3606d5ac9a89e0251a60d7183a09bc742eba2e36882af...  1000.00     202406   \n",
      "4  f3606d5ac9a89e0251a60d7183a09bc742eba2e36882af...   801.00     202406   \n",
      "\n",
      "  repayment_type  \n",
      "0      Automatic  \n",
      "1      Automatic  \n",
      "2      Automatic  \n",
      "3      Automatic  \n",
      "4         Manual  \n"
     ]
    }
   ],
   "source": [
    "# Preview\n",
    "print(Disb.head())\n",
    "print(Repay.head())"
   ]
  },
  {
   "cell_type": "code",
   "execution_count": 9,
   "id": "bf585d56-6bdb-45bd-a682-c69320c8bac2",
   "metadata": {},
   "outputs": [
    {
     "name": "stdout",
     "output_type": "stream",
     "text": [
      "<class 'pandas.core.frame.DataFrame'>\n",
      "RangeIndex: 26585 entries, 0 to 26584\n",
      "Data columns (total 6 columns):\n",
      " #   Column       Non-Null Count  Dtype         \n",
      "---  ------       --------------  -----         \n",
      " 0   customer_id  26585 non-null  object        \n",
      " 1   disb_date    26585 non-null  datetime64[ns]\n",
      " 2   tenure       26585 non-null  object        \n",
      " 3   account_num  26585 non-null  object        \n",
      " 4   loan_amount  26585 non-null  int64         \n",
      " 5   loan_fee     26585 non-null  float64       \n",
      "dtypes: datetime64[ns](1), float64(1), int64(1), object(3)\n",
      "memory usage: 1.2+ MB\n"
     ]
    }
   ],
   "source": [
    "#Disbursements Description\n",
    "Disb.info()"
   ]
  },
  {
   "cell_type": "code",
   "execution_count": 11,
   "id": "2bbd17ac-aba3-49c1-bd87-a2ee2f710d32",
   "metadata": {},
   "outputs": [
    {
     "name": "stdout",
     "output_type": "stream",
     "text": [
      "\n",
      "Descriptive Statistics for Disbursment:\n",
      "                           disb_date   loan_amount      loan_fee\n",
      "count                          26585  26585.000000  26585.000000\n",
      "mean   2024-04-17 13:54:22.275719680   1001.021403    129.698904\n",
      "min              2024-01-01 00:00:00     70.000000      7.000000\n",
      "25%              2024-02-25 00:00:00    150.000000     16.800000\n",
      "50%              2024-04-15 00:00:00    420.000000     50.000000\n",
      "75%              2024-06-08 00:00:00   1460.000000    181.500000\n",
      "max              2024-08-11 00:00:00   3500.000000    525.000000\n",
      "std                              NaN   1171.233304    160.836971\n"
     ]
    }
   ],
   "source": [
    "#Descriptive statistics for Disbursment\n",
    "print(\"\\nDescriptive Statistics for Disbursment:\")\n",
    "print(Disb.describe())"
   ]
  },
  {
   "cell_type": "code",
   "execution_count": 13,
   "id": "747b78e5-cd2a-41d9-906f-6bfa3cae315a",
   "metadata": {},
   "outputs": [
    {
     "name": "stdout",
     "output_type": "stream",
     "text": [
      "<class 'pandas.core.frame.DataFrame'>\n",
      "RangeIndex: 66016 entries, 0 to 66015\n",
      "Data columns (total 5 columns):\n",
      " #   Column          Non-Null Count  Dtype  \n",
      "---  ------          --------------  -----  \n",
      " 0   date_time       66016 non-null  object \n",
      " 1   customer_id     66016 non-null  object \n",
      " 2   amount          66016 non-null  float64\n",
      " 3   rep_month       66016 non-null  int64  \n",
      " 4   repayment_type  66016 non-null  object \n",
      "dtypes: float64(1), int64(1), object(3)\n",
      "memory usage: 2.5+ MB\n"
     ]
    }
   ],
   "source": [
    "#Repayments Description\n",
    "Repay.info()"
   ]
  },
  {
   "cell_type": "code",
   "execution_count": 15,
   "id": "25abd243-09b8-4b37-9c68-35304d94e165",
   "metadata": {},
   "outputs": [
    {
     "name": "stdout",
     "output_type": "stream",
     "text": [
      "\n",
      "Descriptive Statistics for Repayments:\n",
      "             amount      rep_month\n",
      "count  66016.000000   66016.000000\n",
      "mean     462.056628  202404.374697\n",
      "std      838.108424       2.179937\n",
      "min        0.010000  202401.000000\n",
      "25%       22.440000  202403.000000\n",
      "50%      110.565000  202404.000000\n",
      "75%      450.000000  202406.000000\n",
      "max     4025.000000  202408.000000\n"
     ]
    }
   ],
   "source": [
    "#Descriptive statistics for Repayments\n",
    "print(\"\\nDescriptive Statistics for Repayments:\")\n",
    "print(Repay.describe())"
   ]
  },
  {
   "cell_type": "code",
   "execution_count": 17,
   "id": "dbb413df-9a32-44ac-81db-f40d1829fb35",
   "metadata": {},
   "outputs": [
    {
     "data": {
      "text/html": [
       "<div>\n",
       "<style scoped>\n",
       "    .dataframe tbody tr th:only-of-type {\n",
       "        vertical-align: middle;\n",
       "    }\n",
       "\n",
       "    .dataframe tbody tr th {\n",
       "        vertical-align: top;\n",
       "    }\n",
       "\n",
       "    .dataframe thead th {\n",
       "        text-align: right;\n",
       "    }\n",
       "</style>\n",
       "<table border=\"1\" class=\"dataframe\">\n",
       "  <thead>\n",
       "    <tr style=\"text-align: right;\">\n",
       "      <th></th>\n",
       "      <th>tenure</th>\n",
       "    </tr>\n",
       "  </thead>\n",
       "  <tbody>\n",
       "    <tr>\n",
       "      <th>count</th>\n",
       "      <td>26585</td>\n",
       "    </tr>\n",
       "    <tr>\n",
       "      <th>unique</th>\n",
       "      <td>3</td>\n",
       "    </tr>\n",
       "    <tr>\n",
       "      <th>top</th>\n",
       "      <td>14 days</td>\n",
       "    </tr>\n",
       "    <tr>\n",
       "      <th>freq</th>\n",
       "      <td>12948</td>\n",
       "    </tr>\n",
       "  </tbody>\n",
       "</table>\n",
       "</div>"
      ],
      "text/plain": [
       "         tenure\n",
       "count     26585\n",
       "unique        3\n",
       "top     14 days\n",
       "freq      12948"
      ]
     },
     "execution_count": 17,
     "metadata": {},
     "output_type": "execute_result"
    }
   ],
   "source": [
    "Disb[['tenure']].describe()"
   ]
  },
  {
   "cell_type": "markdown",
   "id": "4384298d-6bc4-4e4f-92aa-0078cb958e29",
   "metadata": {},
   "source": [
    "# Objective 3 - Define key performance metrics and present their trends using time-series visualizations ------¶"
   ]
  },
  {
   "cell_type": "markdown",
   "id": "dc9a2949-f5ea-438a-b1a1-9235755443ec",
   "metadata": {},
   "source": [
    "### 2.a **Disbursements Amounts**\n",
    "\n",
    "Looking at the datatypes for Disbursements, Disb_date has datetime64[ns] Datatype, no need to convert.  \n",
    "We shall proceed to group the data by month and sum up the load amounts.\n"
   ]
  },
  {
   "cell_type": "code",
   "execution_count": 19,
   "id": "dab68d3b-56af-4b86-9cd8-8ba8a167c713",
   "metadata": {},
   "outputs": [
    {
     "name": "stdout",
     "output_type": "stream",
     "text": [
      "customer_id    0\n",
      "disb_date      0\n",
      "tenure         0\n",
      "account_num    0\n",
      "loan_amount    0\n",
      "loan_fee       0\n",
      "dtype: int64\n"
     ]
    }
   ],
   "source": [
    "# Check for missing values\n",
    "print(Disb.isnull().sum())"
   ]
  },
  {
   "cell_type": "code",
   "execution_count": 21,
   "id": "4a5e79c6-e133-451b-9530-e3e402e2a0a3",
   "metadata": {},
   "outputs": [],
   "source": [
    "# Grouping data and summing loanamounts\n",
    "# dt.to_period('M') will group into months. dt.to_period('Q') - For Quartely and dt.to_period('Y') for Yearly\n",
    "# The loan_amount column is summed for each period (month)\n",
    "monthly_disb = Disb.groupby(Disb['disb_date'].dt.to_period('M'))['loan_amount'].sum()\n"
   ]
  },
  {
   "cell_type": "code",
   "execution_count": 23,
   "id": "36f83c52-a3fc-465b-a38d-ae53dd1d9233",
   "metadata": {},
   "outputs": [],
   "source": [
    "# We can reset the index for cleaner output\n",
    "# The reset index will converts the grouped object into a DataFrame for ease of analysis.\n",
    "monthly_disb = monthly_disb.reset_index()\n"
   ]
  },
  {
   "cell_type": "code",
   "execution_count": 25,
   "id": "3d30760a-2bd7-486b-a280-7f2896a9c2ec",
   "metadata": {},
   "outputs": [],
   "source": [
    "# Let's onvert the period back to a timestamp for better readability\n",
    "# Basically this converts the monthly period back into a standard timestamp for clarity.\n",
    "monthly_disb['disb_date'] = monthly_disb['disb_date'].dt.to_timestamp()"
   ]
  },
  {
   "cell_type": "code",
   "execution_count": 27,
   "id": "d429a36a-8f41-469e-8a6d-bfdc2c0cfe77",
   "metadata": {},
   "outputs": [
    {
     "data": {
      "text/html": [
       "<div>\n",
       "<style scoped>\n",
       "    .dataframe tbody tr th:only-of-type {\n",
       "        vertical-align: middle;\n",
       "    }\n",
       "\n",
       "    .dataframe tbody tr th {\n",
       "        vertical-align: top;\n",
       "    }\n",
       "\n",
       "    .dataframe thead th {\n",
       "        text-align: right;\n",
       "    }\n",
       "</style>\n",
       "<table border=\"1\" class=\"dataframe\">\n",
       "  <thead>\n",
       "    <tr style=\"text-align: right;\">\n",
       "      <th></th>\n",
       "      <th>disb_date</th>\n",
       "      <th>loan_amount</th>\n",
       "    </tr>\n",
       "  </thead>\n",
       "  <tbody>\n",
       "    <tr>\n",
       "      <th>0</th>\n",
       "      <td>2024-01-01</td>\n",
       "      <td>3179535</td>\n",
       "    </tr>\n",
       "    <tr>\n",
       "      <th>1</th>\n",
       "      <td>2024-02-01</td>\n",
       "      <td>3430755</td>\n",
       "    </tr>\n",
       "    <tr>\n",
       "      <th>2</th>\n",
       "      <td>2024-03-01</td>\n",
       "      <td>3934501</td>\n",
       "    </tr>\n",
       "    <tr>\n",
       "      <th>3</th>\n",
       "      <td>2024-04-01</td>\n",
       "      <td>3936530</td>\n",
       "    </tr>\n",
       "    <tr>\n",
       "      <th>4</th>\n",
       "      <td>2024-05-01</td>\n",
       "      <td>4018499</td>\n",
       "    </tr>\n",
       "    <tr>\n",
       "      <th>5</th>\n",
       "      <td>2024-06-01</td>\n",
       "      <td>3508068</td>\n",
       "    </tr>\n",
       "    <tr>\n",
       "      <th>6</th>\n",
       "      <td>2024-07-01</td>\n",
       "      <td>3396928</td>\n",
       "    </tr>\n",
       "    <tr>\n",
       "      <th>7</th>\n",
       "      <td>2024-08-01</td>\n",
       "      <td>1207338</td>\n",
       "    </tr>\n",
       "  </tbody>\n",
       "</table>\n",
       "</div>"
      ],
      "text/plain": [
       "   disb_date  loan_amount\n",
       "0 2024-01-01      3179535\n",
       "1 2024-02-01      3430755\n",
       "2 2024-03-01      3934501\n",
       "3 2024-04-01      3936530\n",
       "4 2024-05-01      4018499\n",
       "5 2024-06-01      3508068\n",
       "6 2024-07-01      3396928\n",
       "7 2024-08-01      1207338"
      ]
     },
     "execution_count": 27,
     "metadata": {},
     "output_type": "execute_result"
    }
   ],
   "source": [
    "# Preview the aggregated data\n",
    "monthly_disb"
   ]
  },
  {
   "cell_type": "markdown",
   "id": "3d9d286d-0f6b-4db9-8ca1-10aebcdee4c8",
   "metadata": {},
   "source": [
    "### 2.a **Repayment Rates**  \n",
    "- Ratio of total repayments made to total loans disbursed. \n",
    "- For the datatype, date-time is object hence need to convert to datetime for consistency\n",
    "\n"
   ]
  },
  {
   "cell_type": "code",
   "execution_count": 29,
   "id": "f63066a3-0c65-440a-9ca7-5ad4f7d744f9",
   "metadata": {},
   "outputs": [
    {
     "name": "stdout",
     "output_type": "stream",
     "text": [
      "date_time         0\n",
      "customer_id       0\n",
      "amount            0\n",
      "rep_month         0\n",
      "repayment_type    0\n",
      "dtype: int64\n"
     ]
    }
   ],
   "source": [
    "# Check for missing values\n",
    "print(Repay.isnull().sum())"
   ]
  },
  {
   "cell_type": "code",
   "execution_count": 31,
   "id": "98f55743-21a9-4977-a1b2-8242a25ef91a",
   "metadata": {},
   "outputs": [],
   "source": [
    "# Converting 'date_time' to datetime format\n",
    "Repay['date_time'] = pd.to_datetime(Repay['date_time'], format='%d-%b-%y %I.%M.%S.%f %p')"
   ]
  },
  {
   "cell_type": "code",
   "execution_count": 33,
   "id": "18cbb1c1-dd54-46de-876e-d4753ba6317d",
   "metadata": {},
   "outputs": [
    {
     "name": "stdout",
     "output_type": "stream",
     "text": [
      "datetime64[ns]\n"
     ]
    }
   ],
   "source": [
    "#Confirming the converted data type\n",
    "print(Repay['date_time'].dtype)"
   ]
  },
  {
   "cell_type": "code",
   "execution_count": 35,
   "id": "0bbac510-69b5-4fb1-9635-3b14bc7e48ec",
   "metadata": {},
   "outputs": [
    {
     "name": "stdout",
     "output_type": "stream",
     "text": [
      "Total Amount Repaid: 30503130.330000002\n"
     ]
    }
   ],
   "source": [
    "# Total repayments\n",
    "total_repaid = Repay['amount'].sum()\n",
    "print(f\"Total Amount Repaid: {total_repaid}\")"
   ]
  },
  {
   "cell_type": "code",
   "execution_count": 49,
   "id": "8e1eaf76-d30c-4b54-94f6-311983007de0",
   "metadata": {},
   "outputs": [
    {
     "name": "stdout",
     "output_type": "stream",
     "text": [
      "Total Loan Disbursed: 26612154\n"
     ]
    }
   ],
   "source": [
    "# Total disbursed loans\n",
    "total_disbursed = Disb['loan_amount'].sum()\n",
    "print(f\"Total Loan Disbursed: {Total_Disbursed}\")\n"
   ]
  },
  {
   "cell_type": "code",
   "execution_count": 51,
   "id": "16aea6be-c87f-460d-a3fa-753fb1fb2249",
   "metadata": {},
   "outputs": [
    {
     "name": "stdout",
     "output_type": "stream",
     "text": [
      "Repayment Rate: 114.62%\n"
     ]
    }
   ],
   "source": [
    "#Repayment Rate\n",
    "# Compute repayment rate\n",
    "Repay_Rate = (total_repaid / total_disbursed) * 100\n",
    "print(f\"Repayment Rate: {Repay_Rate:.2f}%\")"
   ]
  },
  {
   "cell_type": "markdown",
   "id": "39f94b88-dd0f-4bb1-badd-04965446430f",
   "metadata": {},
   "source": [
    "#### WHY I HAD TO TAKE ANOTHER TURN AND RECHECK MY WORK FOR ABOVE CALCULATIONS:\n",
    "I had a repayment Rate of 114.62%, this made me pause and taught, could be:  \n",
    "1. Interest and Fees - Did the repayment included interest and fees? If this is true, then the total amount repaid can be higher than the principal loan amount\n",
    "2. \n",
    "Overpayment - Did customers madee overpayments or additional payments beyond the required amoun?\n",
    "3. \r\n",
    "Data Erro - Could t The bebe errors in the data, such as duplicate entries or incorrect amou?s."
   ]
  },
  {
   "cell_type": "markdown",
   "id": "63888711-4cd6-460c-bcca-543fe04e3003",
   "metadata": {},
   "source": [
    "#### Anomaly inspection can be found in this script at the beginning of;  Objective 3 ---Continued--  Define key performance metrics and present their trends using time-series visualizations -"
   ]
  },
  {
   "cell_type": "markdown",
   "id": "0f35855a-d235-4715-a989-57d99acb725f",
   "metadata": {},
   "source": [
    "# Objective 4 - Develop a 3-month profit/loss forecast."
   ]
  },
  {
   "cell_type": "markdown",
   "id": "0ce0db1f-d30f-4436-b342-7bf419ec5f53",
   "metadata": {},
   "source": [
    "# Forecasting"
   ]
  },
  {
   "cell_type": "code",
   "execution_count": 62,
   "id": "432657f7-c3e3-487f-ae22-07421d6da01c",
   "metadata": {},
   "outputs": [],
   "source": [
    "# Aggregate repayments by month\n",
    "Repay['rep_month'] = pd.to_datetime(Repay['rep_month'], format='%Y%m')\n",
    "monthly_repayments = Repay.groupby('rep_month')['amount'].sum().reset_index()"
   ]
  },
  {
   "cell_type": "code",
   "execution_count": 64,
   "id": "a69b80fe-2a14-4b43-bb2e-060b657fb191",
   "metadata": {},
   "outputs": [],
   "source": [
    "# Create a time series forecasting model\n",
    "X = np.array((monthly_repayments['rep_month'] - monthly_repayments['rep_month'].min()).dt.days).reshape(-1, 1)\n",
    "y = monthly_repayments['amount'].values"
   ]
  },
  {
   "cell_type": "code",
   "execution_count": 69,
   "id": "349f4ab3-eeda-4836-b0d3-bcf6b06eeb0e",
   "metadata": {},
   "outputs": [
    {
     "data": {
      "text/html": [
       "<style>#sk-container-id-1 {\n",
       "  /* Definition of color scheme common for light and dark mode */\n",
       "  --sklearn-color-text: black;\n",
       "  --sklearn-color-line: gray;\n",
       "  /* Definition of color scheme for unfitted estimators */\n",
       "  --sklearn-color-unfitted-level-0: #fff5e6;\n",
       "  --sklearn-color-unfitted-level-1: #f6e4d2;\n",
       "  --sklearn-color-unfitted-level-2: #ffe0b3;\n",
       "  --sklearn-color-unfitted-level-3: chocolate;\n",
       "  /* Definition of color scheme for fitted estimators */\n",
       "  --sklearn-color-fitted-level-0: #f0f8ff;\n",
       "  --sklearn-color-fitted-level-1: #d4ebff;\n",
       "  --sklearn-color-fitted-level-2: #b3dbfd;\n",
       "  --sklearn-color-fitted-level-3: cornflowerblue;\n",
       "\n",
       "  /* Specific color for light theme */\n",
       "  --sklearn-color-text-on-default-background: var(--sg-text-color, var(--theme-code-foreground, var(--jp-content-font-color1, black)));\n",
       "  --sklearn-color-background: var(--sg-background-color, var(--theme-background, var(--jp-layout-color0, white)));\n",
       "  --sklearn-color-border-box: var(--sg-text-color, var(--theme-code-foreground, var(--jp-content-font-color1, black)));\n",
       "  --sklearn-color-icon: #696969;\n",
       "\n",
       "  @media (prefers-color-scheme: dark) {\n",
       "    /* Redefinition of color scheme for dark theme */\n",
       "    --sklearn-color-text-on-default-background: var(--sg-text-color, var(--theme-code-foreground, var(--jp-content-font-color1, white)));\n",
       "    --sklearn-color-background: var(--sg-background-color, var(--theme-background, var(--jp-layout-color0, #111)));\n",
       "    --sklearn-color-border-box: var(--sg-text-color, var(--theme-code-foreground, var(--jp-content-font-color1, white)));\n",
       "    --sklearn-color-icon: #878787;\n",
       "  }\n",
       "}\n",
       "\n",
       "#sk-container-id-1 {\n",
       "  color: var(--sklearn-color-text);\n",
       "}\n",
       "\n",
       "#sk-container-id-1 pre {\n",
       "  padding: 0;\n",
       "}\n",
       "\n",
       "#sk-container-id-1 input.sk-hidden--visually {\n",
       "  border: 0;\n",
       "  clip: rect(1px 1px 1px 1px);\n",
       "  clip: rect(1px, 1px, 1px, 1px);\n",
       "  height: 1px;\n",
       "  margin: -1px;\n",
       "  overflow: hidden;\n",
       "  padding: 0;\n",
       "  position: absolute;\n",
       "  width: 1px;\n",
       "}\n",
       "\n",
       "#sk-container-id-1 div.sk-dashed-wrapped {\n",
       "  border: 1px dashed var(--sklearn-color-line);\n",
       "  margin: 0 0.4em 0.5em 0.4em;\n",
       "  box-sizing: border-box;\n",
       "  padding-bottom: 0.4em;\n",
       "  background-color: var(--sklearn-color-background);\n",
       "}\n",
       "\n",
       "#sk-container-id-1 div.sk-container {\n",
       "  /* jupyter's `normalize.less` sets `[hidden] { display: none; }`\n",
       "     but bootstrap.min.css set `[hidden] { display: none !important; }`\n",
       "     so we also need the `!important` here to be able to override the\n",
       "     default hidden behavior on the sphinx rendered scikit-learn.org.\n",
       "     See: https://github.com/scikit-learn/scikit-learn/issues/21755 */\n",
       "  display: inline-block !important;\n",
       "  position: relative;\n",
       "}\n",
       "\n",
       "#sk-container-id-1 div.sk-text-repr-fallback {\n",
       "  display: none;\n",
       "}\n",
       "\n",
       "div.sk-parallel-item,\n",
       "div.sk-serial,\n",
       "div.sk-item {\n",
       "  /* draw centered vertical line to link estimators */\n",
       "  background-image: linear-gradient(var(--sklearn-color-text-on-default-background), var(--sklearn-color-text-on-default-background));\n",
       "  background-size: 2px 100%;\n",
       "  background-repeat: no-repeat;\n",
       "  background-position: center center;\n",
       "}\n",
       "\n",
       "/* Parallel-specific style estimator block */\n",
       "\n",
       "#sk-container-id-1 div.sk-parallel-item::after {\n",
       "  content: \"\";\n",
       "  width: 100%;\n",
       "  border-bottom: 2px solid var(--sklearn-color-text-on-default-background);\n",
       "  flex-grow: 1;\n",
       "}\n",
       "\n",
       "#sk-container-id-1 div.sk-parallel {\n",
       "  display: flex;\n",
       "  align-items: stretch;\n",
       "  justify-content: center;\n",
       "  background-color: var(--sklearn-color-background);\n",
       "  position: relative;\n",
       "}\n",
       "\n",
       "#sk-container-id-1 div.sk-parallel-item {\n",
       "  display: flex;\n",
       "  flex-direction: column;\n",
       "}\n",
       "\n",
       "#sk-container-id-1 div.sk-parallel-item:first-child::after {\n",
       "  align-self: flex-end;\n",
       "  width: 50%;\n",
       "}\n",
       "\n",
       "#sk-container-id-1 div.sk-parallel-item:last-child::after {\n",
       "  align-self: flex-start;\n",
       "  width: 50%;\n",
       "}\n",
       "\n",
       "#sk-container-id-1 div.sk-parallel-item:only-child::after {\n",
       "  width: 0;\n",
       "}\n",
       "\n",
       "/* Serial-specific style estimator block */\n",
       "\n",
       "#sk-container-id-1 div.sk-serial {\n",
       "  display: flex;\n",
       "  flex-direction: column;\n",
       "  align-items: center;\n",
       "  background-color: var(--sklearn-color-background);\n",
       "  padding-right: 1em;\n",
       "  padding-left: 1em;\n",
       "}\n",
       "\n",
       "\n",
       "/* Toggleable style: style used for estimator/Pipeline/ColumnTransformer box that is\n",
       "clickable and can be expanded/collapsed.\n",
       "- Pipeline and ColumnTransformer use this feature and define the default style\n",
       "- Estimators will overwrite some part of the style using the `sk-estimator` class\n",
       "*/\n",
       "\n",
       "/* Pipeline and ColumnTransformer style (default) */\n",
       "\n",
       "#sk-container-id-1 div.sk-toggleable {\n",
       "  /* Default theme specific background. It is overwritten whether we have a\n",
       "  specific estimator or a Pipeline/ColumnTransformer */\n",
       "  background-color: var(--sklearn-color-background);\n",
       "}\n",
       "\n",
       "/* Toggleable label */\n",
       "#sk-container-id-1 label.sk-toggleable__label {\n",
       "  cursor: pointer;\n",
       "  display: block;\n",
       "  width: 100%;\n",
       "  margin-bottom: 0;\n",
       "  padding: 0.5em;\n",
       "  box-sizing: border-box;\n",
       "  text-align: center;\n",
       "}\n",
       "\n",
       "#sk-container-id-1 label.sk-toggleable__label-arrow:before {\n",
       "  /* Arrow on the left of the label */\n",
       "  content: \"▸\";\n",
       "  float: left;\n",
       "  margin-right: 0.25em;\n",
       "  color: var(--sklearn-color-icon);\n",
       "}\n",
       "\n",
       "#sk-container-id-1 label.sk-toggleable__label-arrow:hover:before {\n",
       "  color: var(--sklearn-color-text);\n",
       "}\n",
       "\n",
       "/* Toggleable content - dropdown */\n",
       "\n",
       "#sk-container-id-1 div.sk-toggleable__content {\n",
       "  max-height: 0;\n",
       "  max-width: 0;\n",
       "  overflow: hidden;\n",
       "  text-align: left;\n",
       "  /* unfitted */\n",
       "  background-color: var(--sklearn-color-unfitted-level-0);\n",
       "}\n",
       "\n",
       "#sk-container-id-1 div.sk-toggleable__content.fitted {\n",
       "  /* fitted */\n",
       "  background-color: var(--sklearn-color-fitted-level-0);\n",
       "}\n",
       "\n",
       "#sk-container-id-1 div.sk-toggleable__content pre {\n",
       "  margin: 0.2em;\n",
       "  border-radius: 0.25em;\n",
       "  color: var(--sklearn-color-text);\n",
       "  /* unfitted */\n",
       "  background-color: var(--sklearn-color-unfitted-level-0);\n",
       "}\n",
       "\n",
       "#sk-container-id-1 div.sk-toggleable__content.fitted pre {\n",
       "  /* unfitted */\n",
       "  background-color: var(--sklearn-color-fitted-level-0);\n",
       "}\n",
       "\n",
       "#sk-container-id-1 input.sk-toggleable__control:checked~div.sk-toggleable__content {\n",
       "  /* Expand drop-down */\n",
       "  max-height: 200px;\n",
       "  max-width: 100%;\n",
       "  overflow: auto;\n",
       "}\n",
       "\n",
       "#sk-container-id-1 input.sk-toggleable__control:checked~label.sk-toggleable__label-arrow:before {\n",
       "  content: \"▾\";\n",
       "}\n",
       "\n",
       "/* Pipeline/ColumnTransformer-specific style */\n",
       "\n",
       "#sk-container-id-1 div.sk-label input.sk-toggleable__control:checked~label.sk-toggleable__label {\n",
       "  color: var(--sklearn-color-text);\n",
       "  background-color: var(--sklearn-color-unfitted-level-2);\n",
       "}\n",
       "\n",
       "#sk-container-id-1 div.sk-label.fitted input.sk-toggleable__control:checked~label.sk-toggleable__label {\n",
       "  background-color: var(--sklearn-color-fitted-level-2);\n",
       "}\n",
       "\n",
       "/* Estimator-specific style */\n",
       "\n",
       "/* Colorize estimator box */\n",
       "#sk-container-id-1 div.sk-estimator input.sk-toggleable__control:checked~label.sk-toggleable__label {\n",
       "  /* unfitted */\n",
       "  background-color: var(--sklearn-color-unfitted-level-2);\n",
       "}\n",
       "\n",
       "#sk-container-id-1 div.sk-estimator.fitted input.sk-toggleable__control:checked~label.sk-toggleable__label {\n",
       "  /* fitted */\n",
       "  background-color: var(--sklearn-color-fitted-level-2);\n",
       "}\n",
       "\n",
       "#sk-container-id-1 div.sk-label label.sk-toggleable__label,\n",
       "#sk-container-id-1 div.sk-label label {\n",
       "  /* The background is the default theme color */\n",
       "  color: var(--sklearn-color-text-on-default-background);\n",
       "}\n",
       "\n",
       "/* On hover, darken the color of the background */\n",
       "#sk-container-id-1 div.sk-label:hover label.sk-toggleable__label {\n",
       "  color: var(--sklearn-color-text);\n",
       "  background-color: var(--sklearn-color-unfitted-level-2);\n",
       "}\n",
       "\n",
       "/* Label box, darken color on hover, fitted */\n",
       "#sk-container-id-1 div.sk-label.fitted:hover label.sk-toggleable__label.fitted {\n",
       "  color: var(--sklearn-color-text);\n",
       "  background-color: var(--sklearn-color-fitted-level-2);\n",
       "}\n",
       "\n",
       "/* Estimator label */\n",
       "\n",
       "#sk-container-id-1 div.sk-label label {\n",
       "  font-family: monospace;\n",
       "  font-weight: bold;\n",
       "  display: inline-block;\n",
       "  line-height: 1.2em;\n",
       "}\n",
       "\n",
       "#sk-container-id-1 div.sk-label-container {\n",
       "  text-align: center;\n",
       "}\n",
       "\n",
       "/* Estimator-specific */\n",
       "#sk-container-id-1 div.sk-estimator {\n",
       "  font-family: monospace;\n",
       "  border: 1px dotted var(--sklearn-color-border-box);\n",
       "  border-radius: 0.25em;\n",
       "  box-sizing: border-box;\n",
       "  margin-bottom: 0.5em;\n",
       "  /* unfitted */\n",
       "  background-color: var(--sklearn-color-unfitted-level-0);\n",
       "}\n",
       "\n",
       "#sk-container-id-1 div.sk-estimator.fitted {\n",
       "  /* fitted */\n",
       "  background-color: var(--sklearn-color-fitted-level-0);\n",
       "}\n",
       "\n",
       "/* on hover */\n",
       "#sk-container-id-1 div.sk-estimator:hover {\n",
       "  /* unfitted */\n",
       "  background-color: var(--sklearn-color-unfitted-level-2);\n",
       "}\n",
       "\n",
       "#sk-container-id-1 div.sk-estimator.fitted:hover {\n",
       "  /* fitted */\n",
       "  background-color: var(--sklearn-color-fitted-level-2);\n",
       "}\n",
       "\n",
       "/* Specification for estimator info (e.g. \"i\" and \"?\") */\n",
       "\n",
       "/* Common style for \"i\" and \"?\" */\n",
       "\n",
       ".sk-estimator-doc-link,\n",
       "a:link.sk-estimator-doc-link,\n",
       "a:visited.sk-estimator-doc-link {\n",
       "  float: right;\n",
       "  font-size: smaller;\n",
       "  line-height: 1em;\n",
       "  font-family: monospace;\n",
       "  background-color: var(--sklearn-color-background);\n",
       "  border-radius: 1em;\n",
       "  height: 1em;\n",
       "  width: 1em;\n",
       "  text-decoration: none !important;\n",
       "  margin-left: 1ex;\n",
       "  /* unfitted */\n",
       "  border: var(--sklearn-color-unfitted-level-1) 1pt solid;\n",
       "  color: var(--sklearn-color-unfitted-level-1);\n",
       "}\n",
       "\n",
       ".sk-estimator-doc-link.fitted,\n",
       "a:link.sk-estimator-doc-link.fitted,\n",
       "a:visited.sk-estimator-doc-link.fitted {\n",
       "  /* fitted */\n",
       "  border: var(--sklearn-color-fitted-level-1) 1pt solid;\n",
       "  color: var(--sklearn-color-fitted-level-1);\n",
       "}\n",
       "\n",
       "/* On hover */\n",
       "div.sk-estimator:hover .sk-estimator-doc-link:hover,\n",
       ".sk-estimator-doc-link:hover,\n",
       "div.sk-label-container:hover .sk-estimator-doc-link:hover,\n",
       ".sk-estimator-doc-link:hover {\n",
       "  /* unfitted */\n",
       "  background-color: var(--sklearn-color-unfitted-level-3);\n",
       "  color: var(--sklearn-color-background);\n",
       "  text-decoration: none;\n",
       "}\n",
       "\n",
       "div.sk-estimator.fitted:hover .sk-estimator-doc-link.fitted:hover,\n",
       ".sk-estimator-doc-link.fitted:hover,\n",
       "div.sk-label-container:hover .sk-estimator-doc-link.fitted:hover,\n",
       ".sk-estimator-doc-link.fitted:hover {\n",
       "  /* fitted */\n",
       "  background-color: var(--sklearn-color-fitted-level-3);\n",
       "  color: var(--sklearn-color-background);\n",
       "  text-decoration: none;\n",
       "}\n",
       "\n",
       "/* Span, style for the box shown on hovering the info icon */\n",
       ".sk-estimator-doc-link span {\n",
       "  display: none;\n",
       "  z-index: 9999;\n",
       "  position: relative;\n",
       "  font-weight: normal;\n",
       "  right: .2ex;\n",
       "  padding: .5ex;\n",
       "  margin: .5ex;\n",
       "  width: min-content;\n",
       "  min-width: 20ex;\n",
       "  max-width: 50ex;\n",
       "  color: var(--sklearn-color-text);\n",
       "  box-shadow: 2pt 2pt 4pt #999;\n",
       "  /* unfitted */\n",
       "  background: var(--sklearn-color-unfitted-level-0);\n",
       "  border: .5pt solid var(--sklearn-color-unfitted-level-3);\n",
       "}\n",
       "\n",
       ".sk-estimator-doc-link.fitted span {\n",
       "  /* fitted */\n",
       "  background: var(--sklearn-color-fitted-level-0);\n",
       "  border: var(--sklearn-color-fitted-level-3);\n",
       "}\n",
       "\n",
       ".sk-estimator-doc-link:hover span {\n",
       "  display: block;\n",
       "}\n",
       "\n",
       "/* \"?\"-specific style due to the `<a>` HTML tag */\n",
       "\n",
       "#sk-container-id-1 a.estimator_doc_link {\n",
       "  float: right;\n",
       "  font-size: 1rem;\n",
       "  line-height: 1em;\n",
       "  font-family: monospace;\n",
       "  background-color: var(--sklearn-color-background);\n",
       "  border-radius: 1rem;\n",
       "  height: 1rem;\n",
       "  width: 1rem;\n",
       "  text-decoration: none;\n",
       "  /* unfitted */\n",
       "  color: var(--sklearn-color-unfitted-level-1);\n",
       "  border: var(--sklearn-color-unfitted-level-1) 1pt solid;\n",
       "}\n",
       "\n",
       "#sk-container-id-1 a.estimator_doc_link.fitted {\n",
       "  /* fitted */\n",
       "  border: var(--sklearn-color-fitted-level-1) 1pt solid;\n",
       "  color: var(--sklearn-color-fitted-level-1);\n",
       "}\n",
       "\n",
       "/* On hover */\n",
       "#sk-container-id-1 a.estimator_doc_link:hover {\n",
       "  /* unfitted */\n",
       "  background-color: var(--sklearn-color-unfitted-level-3);\n",
       "  color: var(--sklearn-color-background);\n",
       "  text-decoration: none;\n",
       "}\n",
       "\n",
       "#sk-container-id-1 a.estimator_doc_link.fitted:hover {\n",
       "  /* fitted */\n",
       "  background-color: var(--sklearn-color-fitted-level-3);\n",
       "}\n",
       "</style><div id=\"sk-container-id-1\" class=\"sk-top-container\"><div class=\"sk-text-repr-fallback\"><pre>LinearRegression()</pre><b>In a Jupyter environment, please rerun this cell to show the HTML representation or trust the notebook. <br />On GitHub, the HTML representation is unable to render, please try loading this page with nbviewer.org.</b></div><div class=\"sk-container\" hidden><div class=\"sk-item\"><div class=\"sk-estimator fitted sk-toggleable\"><input class=\"sk-toggleable__control sk-hidden--visually\" id=\"sk-estimator-id-1\" type=\"checkbox\" checked><label for=\"sk-estimator-id-1\" class=\"sk-toggleable__label fitted sk-toggleable__label-arrow fitted\">&nbsp;&nbsp;LinearRegression<a class=\"sk-estimator-doc-link fitted\" rel=\"noreferrer\" target=\"_blank\" href=\"https://scikit-learn.org/1.4/modules/generated/sklearn.linear_model.LinearRegression.html\">?<span>Documentation for LinearRegression</span></a><span class=\"sk-estimator-doc-link fitted\">i<span>Fitted</span></span></label><div class=\"sk-toggleable__content fitted\"><pre>LinearRegression()</pre></div> </div></div></div></div>"
      ],
      "text/plain": [
       "LinearRegression()"
      ]
     },
     "execution_count": 69,
     "metadata": {},
     "output_type": "execute_result"
    }
   ],
   "source": [
    "model = LinearRegression()\n",
    "model.fit(X, y)"
   ]
  },
  {
   "cell_type": "markdown",
   "id": "fc47e455-7f8c-4b95-807c-121ac45048aa",
   "metadata": {},
   "source": [
    "### Forecast for the next 3 months"
   ]
  },
  {
   "cell_type": "code",
   "execution_count": 75,
   "id": "14bcb626-eb54-4fa7-ab53-4368a1c47c7d",
   "metadata": {},
   "outputs": [],
   "source": [
    "future_dates = pd.date_range(start=monthly_repayments['rep_month'].max(), periods=4, freq='ME')[1:]\n",
    "future_X = np.array((future_dates - monthly_repayments['rep_month'].min()).days).reshape(-1, 1)\n",
    "forecast = model.predict(future_X)"
   ]
  },
  {
   "cell_type": "code",
   "execution_count": 77,
   "id": "a686fd02-611d-40cb-bcb7-ebc64e1d359a",
   "metadata": {},
   "outputs": [
    {
     "name": "stdout",
     "output_type": "stream",
     "text": [
      "\n",
      "3-Month Profit/Loss Forecast:\n",
      "   rep_month  forecast_amount\n",
      "0 2024-09-30     3.560928e+06\n",
      "1 2024-10-31     3.514087e+06\n",
      "2 2024-11-30     3.468756e+06\n"
     ]
    }
   ],
   "source": [
    "# Display forecast\n",
    "forecast_df = pd.DataFrame({'rep_month': future_dates, 'forecast_amount': forecast})\n",
    "print(\"\\n3-Month Profit/Loss Forecast:\")\n",
    "print(forecast_df)\n"
   ]
  },
  {
   "cell_type": "code",
   "execution_count": 81,
   "id": "b4eabdac-2572-4f99-8a6c-a6ecdb028cd9",
   "metadata": {},
   "outputs": [
    {
     "data": {
      "image/png": "[encoded data removed]",
      "text/plain": [
       "<Figure size 1000x600 with 1 Axes>"
      ]
     },
     "metadata": {},
     "output_type": "display_data"
    }
   ],
   "source": [
    "# Visualizing the forecast\n",
    "plt.figure(figsize=(10, 6))\n",
    "plt.plot(monthly_repayments['rep_month'], monthly_repayments['amount'], label='Historical Repayments')\n",
    "plt.plot(future_dates, forecast, label='Forecasted Repayments', linestyle='--')\n",
    "plt.xlabel('Month')\n",
    "plt.ylabel('Repayment Amount')\n",
    "plt.title('3-Month Profit/Loss Forecast')\n",
    "plt.legend()\n",
    "plt.show()"
   ]
  },
  {
   "cell_type": "code",
   "execution_count": null,
   "id": "9d4db0a1-40b8-4b4e-ab62-e632c8ed958e",
   "metadata": {},
   "outputs": [],
   "source": []
  },
  {
   "cell_type": "code",
   "execution_count": null,
   "id": "c4312b97-9250-4fcb-a983-b6edef9fc8b9",
   "metadata": {},
   "outputs": [],
   "source": []
  },
  {
   "cell_type": "markdown",
   "id": "e7efc430-2ca6-49cc-bc76-7272edbc085b",
   "metadata": {},
   "source": [
    "# Objective 5- Company’s current credit exposure and risk management strategies."
   ]
  },
  {
   "cell_type": "markdown",
   "id": "39445ab7-c441-44e5-a673-772d7917517c",
   "metadata": {},
   "source": [
    "### Current credit exposure"
   ]
  },
  {
   "cell_type": "code",
   "execution_count": 94,
   "id": "6388bfff-a932-4f13-9be8-833947b7fbd8",
   "metadata": {},
   "outputs": [
    {
     "name": "stdout",
     "output_type": "stream",
     "text": [
      "Total Outstanding Loans: 26612154\n"
     ]
    }
   ],
   "source": [
    "total_outstanding_loans = Disb['loan_amount'].sum()\n",
    "print(f\"Total Outstanding Loans: {total_outstanding_loans}\")"
   ]
  },
  {
   "cell_type": "code",
   "execution_count": 87,
   "id": "24719fb9-9713-481b-8c3d-f21acfd6eec3",
   "metadata": {},
   "outputs": [],
   "source": [
    "# Overdue or defaulted loans\n",
    "# Assuming loans are overdue if not repaid within tenure period\n",
    "Disb['due_date'] = Disb['disb_date'] + pd.to_timedelta(Disb['tenure'].str.split().str[0].astype(int), unit='D')\n",
    "merged_df = pd.merge(Disb, Repay, on='customer_id', how='left')\n",
    "merged_df['repayment_status'] = np.where(merged_df['date_time'] > merged_df['due_date'], 'Overdue', 'On Time')\n"
   ]
  },
  {
   "cell_type": "code",
   "execution_count": 89,
   "id": "35359c95-4bcc-4c88-9b69-cf71fa75a414",
   "metadata": {},
   "outputs": [
    {
     "name": "stdout",
     "output_type": "stream",
     "text": [
      "Total Overdue Loans: 383011624\n"
     ]
    }
   ],
   "source": [
    "# Overdue loans\n",
    "overdue_loans = merged_df[merged_df['repayment_status'] == 'Overdue']['loan_amount'].sum()\n",
    "print(f\"Total Overdue Loans: {overdue_loans}\")"
   ]
  },
  {
   "cell_type": "markdown",
   "id": "93fccbf9-0c26-4723-b953-763e660de947",
   "metadata": {},
   "source": [
    "### Risk management strategies"
   ]
  },
  {
   "cell_type": "code",
   "execution_count": 109,
   "id": "2de51159-f012-4f4a-a8d4-7c4bf5ad6a17",
   "metadata": {},
   "outputs": [
    {
     "name": "stdout",
     "output_type": "stream",
     "text": [
      "Total High-Risk Loans: 14384274\n"
     ]
    }
   ],
   "source": [
    "# Assessing effectiveness of credit scoring models\n",
    "credit_scores = np.random.randint(300, 850, size=len(Disb))\n",
    "Disb['credit_score'] = credit_scores\n",
    "high_risk_loans = Disb[Disb['credit_score'] < 600]['loan_amount'].sum()\n",
    "print(f\"Total High-Risk Loans: {high_risk_loans}\")"
   ]
  },
  {
   "cell_type": "code",
   "execution_count": 106,
   "id": "7ed8baf5-54e3-4457-9ec8-23585f261bc0",
   "metadata": {},
   "outputs": [
    {
     "name": "stdout",
     "output_type": "stream",
     "text": [
      "total_recoverable_amount: 10644861.6\n"
     ]
    }
   ],
   "source": [
    "# Reviewing collateral requirements and recovery rates\n",
    "collateral_value = Disb['loan_amount'] * 0.5  # Here I have assumed 50% collateral value\n",
    "recovery_rate = 0.8  # Assuming 80% recovery rate\n",
    "total_recoverable_amount = (collateral_value * recovery_rate).sum()\n",
    "print(f\"total_recoverable_amount: {total_recoverable_amount}\")"
   ]
  },
  {
   "cell_type": "markdown",
   "id": "ae7a6478-1a8a-47bd-a314-d19210c116aa",
   "metadata": {},
   "source": [
    "\n",
    "# Objective 6: Recommend appropriate provisioning and write-off thresholds."
   ]
  },
  {
   "cell_type": "markdown",
   "id": "7abbf575-9559-4777-a016-50cf79559ad2",
   "metadata": {},
   "source": [
    "### Provisioning Thresholds"
   ]
  },
  {
   "cell_type": "code",
   "execution_count": 125,
   "id": "d5c50ae5-8bf4-4f1c-84e1-0f9b14b6ed3c",
   "metadata": {},
   "outputs": [],
   "source": [
    "# High-risk loans (credit score < 600)\n",
    "Disb['credit_score'] = np.random.randint(300, 850, size=len(Disb))\n",
    "high_risk_provisioning = Disb[Disb['credit_score'] < 600]['loan_amount'].sum() * 0.5  # 50% provisioning\n",
    "medium_risk_provisioning = Disb[(Disb['credit_score'] >= 600) & (Disb['credit_score'] < 700)]['loan_amount'].sum() * 0.3  # 30% provisioning\n",
    "low_risk_provisioning = Disb[Disb['credit_score'] >= 700]['loan_amount'].sum() * 0.1  # 10% provisioning"
   ]
  },
  {
   "cell_type": "code",
   "execution_count": 127,
   "id": "a8d3a12b-f0a6-469d-a56a-7529eaf2723c",
   "metadata": {},
   "outputs": [
    {
     "name": "stdout",
     "output_type": "stream",
     "text": [
      "Total Provisioning: 9360491.600000001\n"
     ]
    }
   ],
   "source": [
    "total_provisioning = high_risk_provisioning + medium_risk_provisioning + low_risk_provisioning\n",
    "print(f\"Total Provisioning: {total_provisioning}\")"
   ]
  },
  {
   "cell_type": "markdown",
   "id": "c45e798d-f49e-4a1b-b622-83c3f7c0393f",
   "metadata": {},
   "source": [
    "### Write-off Thresholds"
   ]
  },
  {
   "cell_type": "code",
   "execution_count": 123,
   "id": "7e5e1f3f-98d9-4305-994e-a87cca6dcf7a",
   "metadata": {},
   "outputs": [],
   "source": [
    "# Overdue loans (assuming overdue if not repaid within tenure period)\n",
    "Disb['due_date'] = Disb['disb_date'] + pd.to_timedelta(Disb['tenure'].str.split().str[0].astype(int), unit='D')\n",
    "merged_df = pd.merge(Disb, Repay, on='customer_id', how='left')"
   ]
  },
  {
   "cell_type": "code",
   "execution_count": 129,
   "id": "4ff6f092-af24-479e-b8da-509944238249",
   "metadata": {},
   "outputs": [],
   "source": [
    "# Overdue loans (assuming overdue if not repaid within tenure period)\n",
    "Disb['due_date'] = Disb['disb_date'] + pd.to_timedelta(Disb['tenure'].str.split().str[0].astype(int), unit='D')\n",
    "merged_df = pd.merge(Disb, Repay, on='customer_id', how='left')"
   ]
  },
  {
   "cell_type": "code",
   "execution_count": 131,
   "id": "2e1027dc-545a-4804-b37e-01b09d7361a1",
   "metadata": {},
   "outputs": [],
   "source": [
    "#overdue loans\n",
    "merged_df['repayment_status'] = np.where(merged_df['date_time'] > merged_df['due_date'], 'Overdue', 'On Time')\n",
    "overdue_loans = merged_df[merged_df['repayment_status'] == 'Overdue']['loan_amount'].sum()"
   ]
  },
  {
   "cell_type": "code",
   "execution_count": 137,
   "id": "30d65fc7-a43a-4005-acce-a2f59d90141c",
   "metadata": {},
   "outputs": [
    {
     "name": "stdout",
     "output_type": "stream",
     "text": [
      "Total Overdue Loans: 383011624\n",
      "Total Write-Off: 9970470\n"
     ]
    }
   ],
   "source": [
    "# Assuming write-off threshold is 180 days overdue\n",
    "write_off_threshold = 180\n",
    "merged_df['days_overdue'] = (merged_df['date_time'] - merged_df['due_date']).dt.days\n",
    "write_off_loans = merged_df[merged_df['days_overdue'] > write_off_threshold]['loan_amount'].sum()\n",
    "\n",
    "print(f\"Total Overdue Loans: {overdue_loans}\")\n",
    "print(f\"Total Write-Off: {write_off_loans}\")"
   ]
  },
  {
   "cell_type": "markdown",
   "id": "11f504f8-4bdf-4aee-9b20-6d2a9f105e35",
   "metadata": {},
   "source": [
    "# Objective 3 - --Continued-- Define key performance metrics and present their trends using time-series visualizations "
   ]
  },
  {
   "cell_type": "markdown",
   "id": "0309d782-fcaf-4ed4-ad6d-0636329886ae",
   "metadata": {},
   "source": [
    "### Anomaly"
   ]
  },
  {
   "cell_type": "code",
   "execution_count": 150,
   "id": "a702aa45-d943-4843-9749-a159b5309aad",
   "metadata": {},
   "outputs": [
    {
     "name": "stdout",
     "output_type": "stream",
     "text": [
      "['Automatic' 'Manual']\n"
     ]
    }
   ],
   "source": [
    "# Repayment types for classification\n",
    "print(Repay['repayment_type'].unique())\n"
   ]
  },
  {
   "cell_type": "code",
   "execution_count": 152,
   "id": "b1b8169d-56f1-4268-b4f2-73ab73568bca",
   "metadata": {},
   "outputs": [
    {
     "name": "stdout",
     "output_type": "stream",
     "text": [
      "repayment_type\n",
      "Automatic    12942976.39\n",
      "Manual       17560153.94\n",
      "Name: amount, dtype: float64\n"
     ]
    }
   ],
   "source": [
    "# Grouping by repayment type and sum amounts\n",
    "repayment_by_type = Repay.groupby('repayment_type')['amount'].sum()\n",
    "print(repayment_by_type)\n"
   ]
  },
  {
   "cell_type": "code",
   "execution_count": 154,
   "id": "fb6a31dc-518f-4be1-98d3-c12cf375e66c",
   "metadata": {},
   "outputs": [
    {
     "name": "stdout",
     "output_type": "stream",
     "text": [
      "Automatic Total Repaid: 12942976.39\n",
      "Manual Total Repaid: 17560153.94\n"
     ]
    }
   ],
   "source": [
    "# Comparing totals\n",
    "total_repaid_automatic = Repay[Repay['repayment_type'] == 'Automatic']['amount'].sum()\n",
    "total_repaid_manual = Repay[Repay['repayment_type'] == 'Manual']['amount'].sum()\n",
    "\n",
    "print(f\"Automatic Total Repaid: {total_repaid_automatic}\")\n",
    "print(f\"Manual Total Repaid: {total_repaid_manual}\")\n"
   ]
  },
  {
   "cell_type": "code",
   "execution_count": 156,
   "id": "728870fa-f27d-47d6-983f-2397592ac0bc",
   "metadata": {},
   "outputs": [
    {
     "name": "stdout",
     "output_type": "stream",
     "text": [
      "Automatic Repayment Contribution: 42.43%\n",
      "Manual Repayment Contribution: 57.57%\n"
     ]
    }
   ],
   "source": [
    "# Percentage share of repayment amounts\n",
    "total_repaid = total_repaid_automatic + total_repaid_manual\n",
    "automatic_share = (total_repaid_automatic / total_repaid) * 100\n",
    "manual_share = (total_repaid_manual / total_repaid) * 100\n",
    "\n",
    "print(f\"Automatic Repayment Contribution: {automatic_share:.2f}%\")\n",
    "print(f\"Manual Repayment Contribution: {manual_share:.2f}%\")\n"
   ]
  },
  {
   "cell_type": "code",
   "execution_count": 139,
   "id": "ca609198-0fd6-4380-81fe-2740e13e1560",
   "metadata": {},
   "outputs": [
    {
     "name": "stdout",
     "output_type": "stream",
     "text": [
      "                date_time                                        customer_id  \\\n",
      "76    2024-06-12 09:25:55  f8d9dac1392393c66afd588b3875dccc76c1cf7c9beaaa...   \n",
      "117   2024-06-21 15:49:58  c4ef81d0a44e1b83eddc4bad9deb555f7d5d2589d4b3d5...   \n",
      "138   2024-06-21 18:40:25  38892a1f07a145972e0c92a1e2b01f0e0b4b5dc3da20f5...   \n",
      "142   2024-06-21 11:49:13  c55942df38d00f11a33292062c2dba2f4deca06fc1346f...   \n",
      "219   2024-06-10 17:46:49  5f8f5743623df6a662c3eb75080aa496d7ff43fb32c233...   \n",
      "...                   ...                                                ...   \n",
      "65618 2024-02-20 11:20:22  c80b1f611dd8ab687d1155295499f9e1779d5ea095e85f...   \n",
      "65699 2024-06-24 16:35:26  5f8f5743623df6a662c3eb75080aa496d7ff43fb32c233...   \n",
      "65714 2024-06-23 09:06:51  788b4aa3428d737874596ffbd5de3dc1f79e36fc0cc7f1...   \n",
      "65747 2024-06-20 18:27:06  93ea1479dc055fdbfca35a9dbfb465b03cfd6ddfab8cb6...   \n",
      "65754 2024-06-20 12:00:22  a4cd71557fadcecb4e318860d3b5f35659f98ec04d5571...   \n",
      "\n",
      "        amount  rep_month repayment_type  \n",
      "76     3920.00     202406         Manual  \n",
      "117    4025.00     202406         Manual  \n",
      "138    3519.00     202406         Manual  \n",
      "142    4025.00     202406         Manual  \n",
      "219    3920.00     202406         Manual  \n",
      "...        ...        ...            ...  \n",
      "65618  4020.52     202402         Manual  \n",
      "65699  3920.00     202406         Manual  \n",
      "65714  4025.00     202406         Manual  \n",
      "65747  4025.00     202406         Manual  \n",
      "65754  3967.50     202406         Manual  \n",
      "\n",
      "[1276 rows x 5 columns]\n"
     ]
    }
   ],
   "source": [
    "# Filter for Manual repayments\n",
    "manual_repayments = Repay[Repay['repayment_type'] == 'Manual']\n",
    "\n",
    "# Check for anomalies in amounts\n",
    "suspicious_manual = manual_repayments[manual_repayments['amount'] > Disb['loan_amount'].max()]\n",
    "print(suspicious_manual)\n"
   ]
  },
  {
   "cell_type": "markdown",
   "id": "3ea9fd30-f81d-420c-94b8-9fd4e07b5d4f",
   "metadata": {},
   "source": [
    "### Disbursement Analysis\n",
    "Aggregate Disbursements  \n",
    "Total disbursements grouped by customer, tenure, or other columns.   \n",
    "##### Aggregatation by Customer ID"
   ]
  },
  {
   "cell_type": "code",
   "execution_count": 87,
   "id": "e1ac3f94-8a6e-46f9-b6d8-41028aa7d984",
   "metadata": {},
   "outputs": [
    {
     "name": "stdout",
     "output_type": "stream",
     "text": [
      "                                         customer_id  loan_amount  loan_fee\n",
      "0  000514554c34603e8a7551050e988732cf11a22de40fa6...        31000    4125.0\n",
      "1  00065b32dfbc80c249efb220420bd4842c778d29ace681...        24500    3465.0\n",
      "2  000e57e83f161e4ba6458b3e32c00815405c5a005e652b...        10190    1523.5\n",
      "3  0024e99c9aa8106f28ba1980730ef6ab1649591a43ac83...         3450     382.8\n",
      "4  002504d81a9c6d7a83aaba6820f6b20cbd2b917978cb07...         3800     437.0\n"
     ]
    }
   ],
   "source": [
    "# Total loan amount and fees per customer\n",
    "customer_aggregate = Disb.groupby('customer_id').agg({\n",
    "    'loan_amount': 'sum',\n",
    "    'loan_fee': 'sum'\n",
    "}).reset_index()\n",
    "\n",
    "print(customer_aggregate.head())\n"
   ]
  },
  {
   "cell_type": "markdown",
   "id": "5c50d43e-84eb-408e-a5ea-2e28baa009d7",
   "metadata": {},
   "source": [
    "##### Aggregatation by Tenure"
   ]
  },
  {
   "cell_type": "code",
   "execution_count": 93,
   "id": "b4ab1508-970a-45de-995b-39f69e2d8e55",
   "metadata": {},
   "outputs": [
    {
     "name": "stdout",
     "output_type": "stream",
     "text": [
      "    tenure  loan_amount    loan_fee\n",
      "0  14 days      7739503   928740.36\n",
      "1  30 days     12640798  1896119.70\n",
      "2   7 days      6231853   623185.30\n"
     ]
    }
   ],
   "source": [
    "# Total loan amount and fees per tenure (e.g., 7 days, 14 days)\n",
    "tenure_aggregate = Disb.groupby('tenure').agg({\n",
    "    'loan_amount': 'sum',\n",
    "    'loan_fee': 'sum'\n",
    "}).reset_index()\n",
    "\n",
    "print(tenure_aggregate)\n"
   ]
  },
  {
   "cell_type": "code",
   "execution_count": null,
   "id": "51d22bc1-1c2e-4655-8ea3-d7a3abb701dd",
   "metadata": {},
   "outputs": [],
   "source": []
  },
  {
   "cell_type": "markdown",
   "id": "0ae0376c-c723-474c-92f1-86e7dabf7768",
   "metadata": {},
   "source": [
    "## Analyze Loan Amount and Fee Distributions\n",
    "Use descriptive statistics and visualizations to find high-frequency brackets.\n",
    "\n",
    "##### Summary Statistics"
   ]
  },
  {
   "cell_type": "code",
   "execution_count": 97,
   "id": "e4f87145-80f2-4309-94ad-f3455600845a",
   "metadata": {},
   "outputs": [
    {
     "name": "stdout",
     "output_type": "stream",
     "text": [
      "        loan_amount      loan_fee\n",
      "count  26585.000000  26585.000000\n",
      "mean    1001.021403    129.698904\n",
      "std     1171.233304    160.836971\n",
      "min       70.000000      7.000000\n",
      "25%      150.000000     16.800000\n",
      "50%      420.000000     50.000000\n",
      "75%     1460.000000    181.500000\n",
      "max     3500.000000    525.000000\n"
     ]
    }
   ],
   "source": [
    "# Describe loan amounts and fees\n",
    "print(Disb[['loan_amount', 'loan_fee']].describe())\n"
   ]
  },
  {
   "cell_type": "markdown",
   "id": "05acd9de-0577-422a-b915-1bbe4882498b",
   "metadata": {},
   "source": [
    "#### Visuals"
   ]
  },
  {
   "cell_type": "code",
   "execution_count": 103,
   "id": "01708196-83fd-4a78-85c4-428818ad56b1",
   "metadata": {},
   "outputs": [
    {
     "data": {
      "image/png": "[encoded data removed]",
      "text/plain": [
       "<Figure size 800x500 with 1 Axes>"
      ]
     },
     "metadata": {},
     "output_type": "display_data"
    },
    {
     "data": {
      "image/png": "[encoded data removed]",
      "text/plain": [
       "<Figure size 800x500 with 1 Axes>"
      ]
     },
     "metadata": {},
     "output_type": "display_data"
    }
   ],
   "source": [
    "# Histogram for loan amounts\n",
    "plt.figure(figsize=(8, 5))\n",
    "sns.histplot(Disb['loan_amount'], bins=20, kde=True, color='blue')\n",
    "plt.title('Distribution of Loan Amounts')\n",
    "plt.xlabel('Loan Amount')\n",
    "plt.ylabel('Frequency')\n",
    "plt.show()\n",
    "\n",
    "# Histogram for loan fees\n",
    "plt.figure(figsize=(8, 5))\n",
    "sns.histplot(Disb['loan_fee'], bins=20, kde=True, color='green')\n",
    "plt.title('Distribution of Loan Fees')\n",
    "plt.xlabel('Loan Fee')\n",
    "plt.ylabel('Frequency')\n",
    "plt.show()\n"
   ]
  },
  {
   "cell_type": "markdown",
   "id": "09c24ee6-3b70-43e4-bd1f-89ff813d11d0",
   "metadata": {},
   "source": [
    "### High-Frequency Brackets \n",
    "\n",
    "Checking which tenure (7 days, 14 days, 30 days) has the highest disbursement totals."
   ]
  },
  {
   "cell_type": "code",
   "execution_count": 110,
   "id": "8c9b6003-42b6-472d-8d55-d2b603df15ec",
   "metadata": {},
   "outputs": [
    {
     "data": {
      "image/png": "[encoded data removed]",
      "text/plain": [
       "<Figure size 1000x600 with 1 Axes>"
      ]
     },
     "metadata": {},
     "output_type": "display_data"
    }
   ],
   "source": [
    "# Plot a histogram for loan amounts\n",
    "plt.figure(figsize=(10, 6))\n",
    "sns.histplot(data=Disb, x='loan_amount', bins=20, kde=True, color='blue')\n",
    "plt.title('Distribution of Loan Amounts')\n",
    "plt.xlabel('Loan Amount')\n",
    "plt.ylabel('Frequency')\n",
    "plt.show()\n"
   ]
  },
  {
   "cell_type": "markdown",
   "id": "2dc9a2b6-37ee-4b97-a8a4-fbe89706f92a",
   "metadata": {},
   "source": [
    "#### Analysis:\n",
    "From the histogram above,\n",
    "\n",
    "Peaks in the histogram represent loan amounts with the highest frequency, meaning many loans fall in about 9500 loan amount\n",
    "This also implies that this range is popular among borrowers. "
   ]
  },
  {
   "cell_type": "markdown",
   "id": "cadee710-b44a-48f3-80e2-ac4efe455e3d",
   "metadata": {},
   "source": [
    "##### Step 2: Analyze Tenure with Highest Disbursement Totals\n",
    "Aggregate loan amounts by tenure to find which duration has the largest total disbursements."
   ]
  },
  {
   "cell_type": "code",
   "execution_count": 115,
   "id": "4bb279d8-92c1-4afc-b457-a60fbcd7cbc7",
   "metadata": {},
   "outputs": [
    {
     "name": "stdout",
     "output_type": "stream",
     "text": [
      "    tenure  loan_amount\n",
      "1  30 days     12640798\n",
      "0  14 days      7739503\n",
      "2   7 days      6231853\n"
     ]
    },
    {
     "name": "stderr",
     "output_type": "stream",
     "text": [
      "C:\\Users\\wabo914\\AppData\\Local\\Temp\\ipykernel_7176\\3198944476.py:13: FutureWarning: \n",
      "\n",
      "Passing `palette` without assigning `hue` is deprecated and will be removed in v0.14.0. Assign the `x` variable to `hue` and set `legend=False` for the same effect.\n",
      "\n",
      "  sns.barplot(data=tenure_aggregate, x='tenure', y='loan_amount', palette='viridis')\n"
     ]
    },
    {
     "data": {
      "image/png": "[encoded data removed]",
      "text/plain": [
       "<Figure size 1000x600 with 1 Axes>"
      ]
     },
     "metadata": {},
     "output_type": "display_data"
    }
   ],
   "source": [
    "# Aggregate by tenure\n",
    "tenure_aggregate = Disb.groupby('tenure').agg({\n",
    "    'loan_amount': 'sum'\n",
    "}).reset_index()\n",
    "\n",
    "# Sort by total loan amount\n",
    "tenure_aggregate = tenure_aggregate.sort_values(by='loan_amount', ascending=False)\n",
    "\n",
    "print(tenure_aggregate)\n",
    "\n",
    "# Bar chart for tenure disbursement totals\n",
    "plt.figure(figsize=(10, 6))\n",
    "sns.barplot(data=tenure_aggregate, x='tenure', y='loan_amount', palette='viridis')\n",
    "plt.title('Total Loan Amounts by Tenure')\n",
    "plt.xlabel('Tenure')\n",
    "plt.ylabel('Total Loan Amount (Sum)')\n",
    "plt.show()\n"
   ]
  },
  {
   "cell_type": "markdown",
   "id": "db938090-e88f-4ba5-8f02-3c988c99740a",
   "metadata": {},
   "source": [
    "Analysis:\n",
    "\n",
    "The bar chart shows which tenure (e.g., 7 days, 14 days) accounts for the largest disbursement totals.\n",
    "The longer the days, the higher the distribution. 30 days tenure has highest total loan disbursement folllowed by 14 days then 7 days. \n",
    "\n",
    "This reflects a preference of 30 days tenure for mid-term or longer-term commitments, possibly for slightly larger investments or financial needs."
   ]
  },
  {
   "cell_type": "markdown",
   "id": "b121d6bd-d662-49f3-ba11-46b666b2b7eb",
   "metadata": {},
   "source": [
    "## Exporting Results for Further Use\n",
    "Save the aggregated data for use in Power BI or further analysis."
   ]
  },
  {
   "cell_type": "code",
   "execution_count": 121,
   "id": "48e67bb9-cb2c-4549-8f81-3382d770625c",
   "metadata": {},
   "outputs": [],
   "source": [
    "# Save aggregated data to CSV\n",
    "customer_aggregate.to_csv('customer_aggregate.csv', index=False)\n",
    "tenure_aggregate.to_csv('tenure_aggregate.csv', index=False)\n"
   ]
  },
  {
   "cell_type": "code",
   "execution_count": null,
   "id": "150d8144-ac6d-47e6-9f81-a3311695fcdc",
   "metadata": {},
   "outputs": [],
   "source": []
  },
  {
   "cell_type": "markdown",
   "id": "212bb185-a3f3-4836-9ff0-b665c3f8b8b4",
   "metadata": {},
   "source": [
    "## CREDIT RISK ANALYSIS"
   ]
  },
  {
   "cell_type": "markdown",
   "id": "cbfa6545-4884-4953-8a5e-2fdd0be4159e",
   "metadata": {},
   "source": [
    "### Objective\n",
    "Evaluate the effectiveness of fee structures (e.g., loan_fee-to-loan_amount ratio).\n",
    "\n",
    "Analyze credit risk levels based on short-term loans (e.g., overdue balances for 7- and 14-day loans)."
   ]
  },
  {
   "cell_type": "markdown",
   "id": "73228c45-58a8-4fd0-9865-607b409c744a",
   "metadata": {},
   "source": [
    "### Evaluating Fee Structures\n",
    "Calculate and analyze the loan fee as a percentage of the loan amount to identify fee patterns."
   ]
  },
  {
   "cell_type": "code",
   "execution_count": 126,
   "id": "ef6ea91a-7cf0-49b7-93d3-53a434a734c0",
   "metadata": {},
   "outputs": [
    {
     "name": "stdout",
     "output_type": "stream",
     "text": [
      "count    26585.000000\n",
      "mean        12.064548\n",
      "std          1.771511\n",
      "min         10.000000\n",
      "25%         10.000000\n",
      "50%         12.000000\n",
      "75%         12.000000\n",
      "max         15.000000\n",
      "Name: fee_percentage, dtype: float64\n",
      "    tenure  fee_percentage\n",
      "0  14 days            12.0\n",
      "1  30 days            15.0\n",
      "2   7 days            10.0\n"
     ]
    }
   ],
   "source": [
    "import pandas as pd\n",
    "\n",
    "# Calculate fee percentage for each loan\n",
    "Disb['fee_percentage'] = (Disb['loan_fee'] / Disb['loan_amount']) * 100\n",
    "\n",
    "# Analyze fee distribution\n",
    "print(Disb['fee_percentage'].describe())\n",
    "\n",
    "# Optional: Group by tenure to understand how fee structures vary\n",
    "fee_by_tenure = Disb.groupby('tenure')['fee_percentage'].mean().reset_index()\n",
    "print(fee_by_tenure)\n"
   ]
  },
  {
   "cell_type": "markdown",
   "id": "4dc8a29a-669c-4278-8917-37bb9e8199f5",
   "metadata": {},
   "source": [
    "#### Insights:\n",
    "### Fee Percentage  \n",
    "Examining the fee_percentage,  to ensure that fees are proportionate to loan amounts.\n",
    "7 days: 10% fee (lower risk for short-term loans).\n",
    "14 days: 12% fee.\n",
    "30 days: 15% fee (higher to compensate for extended risk exposure).\n",
    "This proportional increase suggests that fees effectively balance profitability with credit risk mitigation.\n",
    "\n",
    "### Credit Risk Assessment:\n",
    "\n",
    "Short-term loans (7 days) may carry lower risk, reflected in smaller fees, while longer tenures (that is 30 days) require higher fees due to increased exposure."
   ]
  },
  {
   "cell_type": "code",
   "execution_count": 128,
   "id": "614ab23c-e01d-46f6-a45f-309448e226c9",
   "metadata": {},
   "outputs": [
    {
     "name": "stderr",
     "output_type": "stream",
     "text": [
      "C:\\Users\\wabo914\\AppData\\Local\\Temp\\ipykernel_7176\\3795905033.py:2: FutureWarning: \n",
      "\n",
      "Passing `palette` without assigning `hue` is deprecated and will be removed in v0.14.0. Assign the `x` variable to `hue` and set `legend=False` for the same effect.\n",
      "\n",
      "  sns.barplot(data=fee_by_tenure, x='tenure', y='fee_percentage', palette='muted')\n"
     ]
    },
    {
     "data": {
      "image/png": "[encoded data removed]",
      "text/plain": [
       "<Figure size 800x500 with 1 Axes>"
      ]
     },
     "metadata": {},
     "output_type": "display_data"
    }
   ],
   "source": [
    "plt.figure(figsize=(8, 5))\n",
    "sns.barplot(data=fee_by_tenure, x='tenure', y='fee_percentage', palette='muted')\n",
    "plt.title('Average Fee Percentage by Loan Tenure')\n",
    "plt.xlabel('Loan Tenure')\n",
    "plt.ylabel('Fee Percentage')\n",
    "plt.show()\n"
   ]
  },
  {
   "cell_type": "markdown",
   "id": "21cb8a6f-47f5-49ac-b7f8-8c40668c5a21",
   "metadata": {},
   "source": [
    "### Analyzing Short-Term Loans\n",
    "Aggregate data by tenure to evaluate disbursement totals and repayment coverage for short-term loans.  \n",
    "Link with Repayment Data  \n",
    "If repayment data is available, match it with disbursement data to calculate outstanding balances:"
   ]
  },
  {
   "cell_type": "code",
   "execution_count": 134,
   "id": "36189e5a-82fd-48d3-8c28-1a080180cdbf",
   "metadata": {},
   "outputs": [
    {
     "name": "stdout",
     "output_type": "stream",
     "text": [
      "    tenure  loan_amount        amount  repayment_coverage\n",
      "0  14 days    247642667  1.112154e+08           44.909633\n",
      "1   7 days    323300221  1.368444e+08           42.327350\n"
     ]
    }
   ],
   "source": [
    "#We wille used merged data above or we can still merge here\n",
    "\n",
    "# Merge disbursements and repayments\n",
    "merged_data = pd.merge(Disb, Repay, on='customer_id', how='left')\n",
    "\n",
    "# Group by tenure and calculate metrics\n",
    "short_term_analysis = merged_data[merged_data['tenure'].isin(['7 days', '14 days'])].groupby('tenure').agg({\n",
    "    'loan_amount': 'sum',\n",
    "    'amount': 'sum'\n",
    "}).reset_index()\n",
    "\n",
    "# Calculate repayment coverage ratio\n",
    "short_term_analysis['repayment_coverage'] = (short_term_analysis['amount'] / short_term_analysis['loan_amount']) * 100\n",
    "print(short_term_analysis)\n"
   ]
  },
  {
   "cell_type": "markdown",
   "id": "5e302ca9-866b-48f6-9c56-5ee6abbe3873",
   "metadata": {},
   "source": [
    "### Insights\n",
    "Based on my data, \n",
    "14-day tenure:\n",
    "Loan Amount: 247,642,667.\n",
    "Amount Repaid: 111,215,400.\n",
    "Repayment Coverage: 44.91%.\n",
    "\n",
    "7-day tenure:\n",
    "Loan Amount: 323,300,221.\n",
    "Amount Repaid: 136,844,400.\n",
    "Repayment Coverage: 42.33%.\n",
    "\n",
    "#### Repayment Coverage:\n",
    "For both tenures, repayment coverage hovers between 42% and 45%.\n",
    "While 14-day loans show slightly higher repayment coverage (44.91%), the difference isn't drastic compared to 7-day loans (42.33%).\n",
    "\n",
    "#### Credit Risk Mitigation:\n",
    "Despite their slightly lower repayment coverage, 7-day loans represent a larger loan portfolio (323M loan amount) compared to 14-day loans (247M).\n",
    "This indicates that while 7-day loans generate higher business volume, they may pose marginally higher repayment risk.\n",
    "\n",
    "#### Actionable Insights:\n",
    "Short-term loans (7 and 14 days) perform reasonably well in repayment rates, showing moderate risk mitigation.  \n",
    "Higher repayment coverage for 14-day loans suggests slightly more reliability, possibly due to added repayment time, while still maintaining credit risk cont\n"
   ]
  },
  {
   "cell_type": "markdown",
   "id": "274794f6-e4e3-4626-85ba-8d777a4745ac",
   "metadata": {},
   "source": [
    "## Visuals\n",
    "Use matplotlib or seaborn to create visualizations.\n",
    "\n",
    "Fee Distribution"
   ]
  },
  {
   "cell_type": "code",
   "execution_count": 141,
   "id": "7d226660-1c92-4ef4-9bb5-13796908c8ca",
   "metadata": {},
   "outputs": [
    {
     "data": {
      "image/png": "[encoded data removed]",
      "text/plain": [
       "<Figure size 1000x600 with 1 Axes>"
      ]
     },
     "metadata": {},
     "output_type": "display_data"
    }
   ],
   "source": [
    "# Fee percentage distribution\n",
    "plt.figure(figsize=(10, 6))\n",
    "sns.histplot(Disb['fee_percentage'], bins=20, kde=True, color='green')\n",
    "plt.title('Distribution of Loan Fee Percentages')\n",
    "plt.xlabel('Fee Percentage')\n",
    "plt.ylabel('Frequency')\n",
    "plt.show()\n"
   ]
  },
  {
   "cell_type": "code",
   "execution_count": 143,
   "id": "05e5cb75-5685-4a4c-b29f-5f7e80d5de6b",
   "metadata": {},
   "outputs": [
    {
     "name": "stderr",
     "output_type": "stream",
     "text": [
      "C:\\Users\\wabo914\\AppData\\Local\\Temp\\ipykernel_7176\\113175742.py:3: FutureWarning: \n",
      "\n",
      "Passing `palette` without assigning `hue` is deprecated and will be removed in v0.14.0. Assign the `x` variable to `hue` and set `legend=False` for the same effect.\n",
      "\n",
      "  sns.barplot(data=short_term_analysis, x='tenure', y='repayment_coverage', palette='viridis')\n"
     ]
    },
    {
     "data": {
      "image/png": "[encoded data removed]",
      "text/plain": [
       "<Figure size 800x500 with 1 Axes>"
      ]
     },
     "metadata": {},
     "output_type": "display_data"
    }
   ],
   "source": [
    "# Bar plot for repayment coverage\n",
    "plt.figure(figsize=(8, 5))\n",
    "sns.barplot(data=short_term_analysis, x='tenure', y='repayment_coverage', palette='viridis')\n",
    "plt.title('Repayment Coverage for Short-Term Loans')\n",
    "plt.xlabel('Loan Tenure')\n",
    "plt.ylabel('Repayment Coverage (%)')\n",
    "plt.show()\n"
   ]
  },
  {
   "cell_type": "markdown",
   "id": "7de6ca2c-0879-4f66-b08e-0600a88e1c30",
   "metadata": {},
   "source": [
    "### Insights\n",
    "The repayment coverage percentage difference for 14 days tenure and 7 days tenure is not that high. \n",
    "Also from the plots above, higher percentages for smaller loans effectively mitigate risks and short-term loans with high repayment coverage can be highlighted as less risky options in the portfolio."
   ]
  },
  {
   "cell_type": "code",
   "execution_count": null,
   "id": "85f5a7f0-a774-4755-a687-5f7167ccc872",
   "metadata": {},
   "outputs": [],
   "source": []
  },
  {
   "cell_type": "markdown",
   "id": "fca20b72-ef8b-4bb6-abfe-9b061c176866",
   "metadata": {},
   "source": [
    "# OBJECTIVE 2\n",
    "Utilize a Business Intelligence (BI) tool to create visualizations that provide insights into the \n",
    "produc's;s performance."
   ]
  },
  {
   "cell_type": "code",
   "execution_count": 151,
   "id": "96234040-9439-4021-a8d3-6f8da3873ee4",
   "metadata": {},
   "outputs": [],
   "source": [
    "## Saving prepared data\n",
    "#We Already have loan_summary that was merged\n",
    "short_term_analysis.to_csv('repayment_analysis.csv', index=False)\n"
   ]
  },
  {
   "cell_type": "markdown",
   "id": "ba652e32-6ba6-4c6e-be47-85d3552c8987",
   "metadata": {},
   "source": [
    "### MERGE DATE"
   ]
  },
  {
   "cell_type": "code",
   "execution_count": 141,
   "id": "75783434-ecd3-4901-8b20-acd64e548d89",
   "metadata": {},
   "outputs": [
    {
     "name": "stdout",
     "output_type": "stream",
     "text": [
      "                                         customer_id  disb_date   tenure  \\\n",
      "0  91810ca1aa097db79f050f38e9946fa5482b4e28c925e2... 2024-03-19  14 days   \n",
      "1  91810ca1aa097db79f050f38e9946fa5482b4e28c925e2... 2024-03-19  14 days   \n",
      "2  91810ca1aa097db79f050f38e9946fa5482b4e28c925e2... 2024-03-19  14 days   \n",
      "3  91810ca1aa097db79f050f38e9946fa5482b4e28c925e2... 2024-03-19  14 days   \n",
      "4  91810ca1aa097db79f050f38e9946fa5482b4e28c925e2... 2024-03-19  14 days   \n",
      "\n",
      "                        account_num  loan_amount  loan_fee   due_date  \\\n",
      "0  3O66YENWELA6E2H1R9YLX0LDZNOMNHD4          360      43.2 2024-04-02   \n",
      "1  3O66YENWELA6E2H1R9YLX0LDZNOMNHD4          360      43.2 2024-04-02   \n",
      "2  3O66YENWELA6E2H1R9YLX0LDZNOMNHD4          360      43.2 2024-04-02   \n",
      "3  3O66YENWELA6E2H1R9YLX0LDZNOMNHD4          360      43.2 2024-04-02   \n",
      "4  3O66YENWELA6E2H1R9YLX0LDZNOMNHD4          360      43.2 2024-04-02   \n",
      "\n",
      "   credit_score           date_time  amount  rep_month repayment_type  \\\n",
      "0           412 2024-06-11 11:24:49   38.89 2024-06-01      Automatic   \n",
      "1           412 2024-06-11 11:30:54   77.77 2024-06-01         Manual   \n",
      "2           412 2024-06-25 17:04:09  425.60 2024-06-01         Manual   \n",
      "3           412 2024-06-09 16:47:32    0.55 2024-06-01      Automatic   \n",
      "4           412 2024-06-09 18:10:04   16.67 2024-06-01      Automatic   \n",
      "\n",
      "   outstanding_balance  \n",
      "0               321.11  \n",
      "1               282.23  \n",
      "2               -65.60  \n",
      "3               359.45  \n",
      "4               343.33  \n"
     ]
    }
   ],
   "source": [
    "# Merge the two datasets\n",
    "merged_data = pd.merge(Disb, Repay, on='customer_id', how='left')\n",
    "\n",
    "# Calculate outstanding balance\n",
    "merged_data['outstanding_balance'] = merged_data['loan_amount'] - merged_data['amount']\n",
    "\n",
    "# Preview the merged dataset\n",
    "print(merged_data.head())\n"
   ]
  },
  {
   "cell_type": "markdown",
   "id": "2d9d23ee-a5b5-4176-b8b2-d5ac41dcd49f",
   "metadata": {},
   "source": [
    "###  Create Summary Metrics"
   ]
  },
  {
   "cell_type": "code",
   "execution_count": 143,
   "id": "022cfc54-452a-407e-8a4c-b18d28719f55",
   "metadata": {},
   "outputs": [
    {
     "name": "stdout",
     "output_type": "stream",
     "text": [
      "                                         customer_id  total_disbursements  \\\n",
      "0  000514554c34603e8a7551050e988732cf11a22de40fa6...              1240000   \n",
      "1  00065b32dfbc80c249efb220420bd4842c778d29ace681...              1470000   \n",
      "2  000e57e83f161e4ba6458b3e32c00815405c5a005e652b...               152850   \n",
      "3  0024e99c9aa8106f28ba1980730ef6ab1649591a43ac83...                55200   \n",
      "4  002504d81a9c6d7a83aaba6820f6b20cbd2b917978cb07...                26600   \n",
      "\n",
      "   total_repayments  total_outstanding  \n",
      "0         279900.00          960100.00  \n",
      "1         197967.42         1272032.58  \n",
      "2          85560.16           67289.84  \n",
      "3          25600.80           29599.20  \n",
      "4          20532.00            6068.00  \n"
     ]
    }
   ],
   "source": [
    "# Summarize by customer\n",
    "summary = merged_data.groupby('customer_id').agg({\n",
    "    'loan_amount': 'sum',\n",
    "    'amount': 'sum',\n",
    "    'outstanding_balance': 'sum'\n",
    "}).reset_index()\n",
    "\n",
    "# Rename columns for clarity\n",
    "summary.rename(columns={\n",
    "    'loan_amount': 'total_disbursements',\n",
    "    'amount': 'total_repayments',\n",
    "    'outstanding_balance': 'total_outstanding'\n",
    "}, inplace=True)\n",
    "\n",
    "print(summary.head())\n"
   ]
  },
  {
   "cell_type": "markdown",
   "id": "243829c7-88f2-41d5-aa65-b53fb90b0695",
   "metadata": {},
   "source": [
    "### Load Data into Power BI"
   ]
  },
  {
   "cell_type": "code",
   "execution_count": 145,
   "id": "86f7809f-14fa-4f4a-8be6-606f19cadb24",
   "metadata": {},
   "outputs": [],
   "source": [
    "summary.to_csv('loan_summary.csv', index=False)\n"
   ]
  },
  {
   "cell_type": "code",
   "execution_count": null,
   "id": "1e4b2743-09ea-43be-a955-30fd80b7a264",
   "metadata": {},
   "outputs": [],
   "source": []
  }
 ],
 "metadata": {
  "kernelspec": {
   "display_name": "Python 3 (ipykernel)",
   "language": "python",
   "name": "python3"
  },
  "language_info": {
   "codemirror_mode": {
    "name": "ipython",
    "version": 3
   },
   "file_extension": ".py",
   "mimetype": "text/x-python",
   "name": "python",
   "nbconvert_exporter": "python",
   "pygments_lexer": "ipython3",
   "version": "3.12.4"
  }
 },
 "nbformat": 4,
 "nbformat_minor": 5
}
